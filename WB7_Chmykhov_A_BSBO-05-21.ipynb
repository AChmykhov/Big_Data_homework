{
 "cells": [
  {
   "cell_type": "markdown",
   "metadata": {},
   "source": [
    "# Рабочая тетрадь 7"
   ]
  },
  {
   "cell_type": "markdown",
   "metadata": {},
   "source": [
    "#### Пример 1.1.1\n",
    "Рассмотрим программу обучения персептрона на языке Python. Сначала рассмотрим основной класс персептрона, который умеет учиться по тестовым данным.\n",
    "\n",
    "Начнем с описания объектов класса:"
   ]
  },
  {
   "cell_type": "code",
   "execution_count": null,
   "metadata": {},
   "outputs": [],
   "source": [
    "# класс, который реализует персептрон и его обучение\n",
    "class Perceptron:\n",
    "    def __init__(self, N):\n",
    "        # создать нулевые веса\n",
    "        self.w = list()\n",
    "        for i in range(N):\n",
    "            self.w.append(0)\n",
    "\n",
    "    # метод для вычисления значения персептрона\n",
    "    def calc(self, x):\n",
    "        res = 0\n",
    "        for i in range(len(self.w)):\n",
    "            res = res + self.w[i] * x[i]\n",
    "        return res\n",
    "\n",
    "    # пороговая ф-я активации персептрона\n",
    "    def sign(self, x):\n",
    "        if self.calc(x) > 0:\n",
    "            return 1\n",
    "        else:\n",
    "            return -1\n",
    "\n",
    "    # обучение на одном примере\n",
    "    def learn(self, la, x, y):\n",
    "        # обучаем только когда результат неверный\n",
    "        if y * self.calc(x) <= 0:\n",
    "            for i in range(len(self.w)):\n",
    "                self.w[i] = self.w[i] + la * y * x[i]\n",
    "\n",
    "    # обучение по всем данным T - кортеж примеров\n",
    "    def learning(self, la, T):\n",
    "        # цикл обучения\n",
    "        for n in range(100):\n",
    "            # обучение по всему набору примеров\n",
    "            for t in T:\n",
    "                self.learn(la, t[0], t[1])"
   ]
  },
  {
   "cell_type": "markdown",
   "metadata": {},
   "source": [
    "В строке 25 мы осуществляем корректировку весов. Посмотрим, как учится и работает наш персептрон."
   ]
  },
  {
   "cell_type": "code",
   "execution_count": null,
   "metadata": {},
   "outputs": [
    {
     "name": "stdout",
     "output_type": "stream",
     "text": [
      "The history saving thread hit an unexpected error (OperationalError('database is locked')).History will not be written to the database.\n",
      "[0.1, -0.1]\n",
      "-1\n",
      "1\n",
      "1\n",
      "-1\n"
     ]
    }
   ],
   "source": [
    "# создаем класс двумерного персептрона\n",
    "perceptron = Perceptron(2)\n",
    "la = 0.1  # константа обучения\n",
    "# создаем примеры\n",
    "T = list()\n",
    "T.append([[2, 1], 1])\n",
    "T.append([[3, 2], 1])\n",
    "T.append([[4, 1], 1])\n",
    "T.append([[1, 2], -1])\n",
    "T.append([[2, 3], -1])\n",
    "T.append([[5, 7], -1])\n",
    "perceptron.learning(la, T)  # обучение персептрона\n",
    "print(perceptron.w)  # печатаем веса\n",
    "# проверим работу на тестовых примерах\n",
    "print(perceptron.sign([1.5, 2]))\n",
    "print(perceptron.sign([3, 1.5]))\n",
    "print(perceptron.sign([5, 1]))\n",
    "print(perceptron.sign([5, 10]))"
   ]
  },
  {
   "cell_type": "markdown",
   "metadata": {},
   "source": [
    "Видим, что что наш персептрон отлично научился распознавать образы, относя к классу 1 те вектора, у которых первая компонента больше второй, и к классу -1 в противном случае. Хотя устройство персептронов довольно простое эти конструкции могут решать и практические задачи. Кроме того, из таких персептронов состоят нейронные сети."
   ]
  },
  {
   "cell_type": "markdown",
   "metadata": {},
   "source": [
    "#### Пример 1.1.2\n",
    "Для написания кода нейрона будем использовать библиотеку Pytnon — NumPy:"
   ]
  },
  {
   "cell_type": "code",
   "execution_count": null,
   "metadata": {},
   "outputs": [
    {
     "name": "stdout",
     "output_type": "stream",
     "text": [
      "0.9990889488055994\n"
     ]
    }
   ],
   "source": [
    "import numpy as np\n",
    "\n",
    "\n",
    "def sigmoid(x):\n",
    "    # ф-я активации: f(x) = 1 / (1 + e^(-x))\n",
    "    return 1 / (1 + np.exp(-x))\n",
    "\n",
    "\n",
    "def sigmoid_derivative(x):\n",
    "    return sigmoid(x) * (1 - sigmoid(x))\n",
    "\n",
    "\n",
    "class Neuron:\n",
    "    def __init__(self, weights, bias):\n",
    "        self.weights = weights\n",
    "        self.bias = bias\n",
    "\n",
    "    def feedforward(self, inputs):\n",
    "        total = np.dot(self.weights, inputs) + self.bias\n",
    "        return sigmoid(total)\n",
    "\n",
    "\n",
    "weights = np.array([0, 1])  # w1 = 0, w2 = 1\n",
    "bias = 4  # c = 4\n",
    "n = Neuron(weights, bias)\n",
    "x = np.array([2, 3])  # x = 2, y = 3\n",
    "print(n.feedforward(x))  # 0.9990889488055994"
   ]
  },
  {
   "cell_type": "markdown",
   "metadata": {},
   "source": [
    "Нейросеть состоит из множества соединенных между собой нейронов. Пример несложной нейронной сети\n",
    "\n",
    "# КАРТИНКА\n",
    "где:\n",
    "\n",
    "+ x_1,x_2 — входной слой;\n",
    "+ h_1,h_2 — скрытый слой с двумя нейронами;\n",
    "+ o_1 — выходной слой.\n",
    "\n",
    "Например. Представим, что нейроны из графика выше имеют веса [0,1]. Пороговое значение (b) у обоих нейронов равно 0 и они имеют идентичную сигмоиду.\n",
    "\n",
    "При входных данных x=[2,3] получим:\n",
    "\n",
    "h_1  = h_2  = f(wx+b) = f((0 * 2) + (1 * 3) +0) = f(3) = 0.95.\n",
    "\n",
    "o_1  = f(w*[h_1,h_2] +b) = f((0h_1) + (1h_2) +0) = f(0.95) = 0.72.\n",
    "\n",
    "Входные данные по нейронам передаются до тех пор, пока не получатся выходные значения.\n"
   ]
  },
  {
   "cell_type": "code",
   "execution_count": null,
   "metadata": {},
   "outputs": [
    {
     "name": "stdout",
     "output_type": "stream",
     "text": [
      "0.7216325609518421\n"
     ]
    }
   ],
   "source": [
    "import numpy as np\n",
    "\n",
    "\n",
    "class OurNeuralNetwork:\n",
    "    '''\n",
    "    Данные нейросети:\n",
    "        - два входа\n",
    "        - два нейрона в скрытых слоях (h1, h2)\n",
    "        - выход (o1)\n",
    "    Нейроны имеют идентичные веса и пороги:\n",
    "        - w = [0, 1]\n",
    "        - b = 0\n",
    "    '''\n",
    "\n",
    "    def __init__(self):\n",
    "        weights = np.array([0, 1])\n",
    "        bias = 0\n",
    "        # Класс Neuron из предыдущего раздела\n",
    "        self.h1 = Neuron(weights, bias)\n",
    "        self.h2 = Neuron(weights, bias)\n",
    "        self.o1 = Neuron(weights, bias)\n",
    "\n",
    "    def feedforward(self, x):\n",
    "        out_h1 = self.h1.feedforward(x)\n",
    "        out_h2 = self.h2.feedforward(x)\n",
    "        # Входы для o1 - это выходы h1 и h2\n",
    "        out_o1 = self.o1.feedforward(np.array([out_h1, out_h2]))\n",
    "        return out_o1\n",
    "\n",
    "\n",
    "network = OurNeuralNetwork()\n",
    "x = np.array([2, 3])\n",
    "print(network.feedforward(x))  # 0.7216325609518421\n"
   ]
  },
  {
   "cell_type": "markdown",
   "metadata": {},
   "source": [
    "Класс нейронной сети из теоретического материала:"
   ]
  },
  {
   "cell_type": "code",
   "execution_count": null,
   "metadata": {},
   "outputs": [],
   "source": [
    "class NeuralNetwork:\n",
    "    def __init__(self, x, y):\n",
    "        self.input = x\n",
    "        self.weights1 = np.random.rand(self.input.shape[1], 4)\n",
    "        self.weights2 = np.random.rand(4, 1)\n",
    "        self.y = y\n",
    "        self.output = np.zeros(y.shape)\n",
    "\n",
    "    def feedforward(self):\n",
    "        self.layer1 = sigmoid(np.dot(self.input, self.weights1))\n",
    "        self.output = sigmoid(np.dot(self.layer1, self.weights2))\n",
    "\n",
    "    def backprop(self):\n",
    "        # применение правила цепи для нахождения производной потерь по весу2 и весу1\n",
    "        d_weights2 = np.dot(self.layer1.T, (2 * (self.y - self.output) * sigmoid_derivative(self.output)))\n",
    "        d_weights1 = np.dot(self.input.T, (np.dot(2 * (self.y - self.output) * sigmoid_derivative(self.output),\n",
    "                                                  self.weights2.T) * sigmoid_derivative(self.layer1)))\n",
    "\n",
    "        # обновление веса производной (наклона) ф-ии потерь\n",
    "        self.weights1 += d_weights1\n",
    "        self.weights2 += d_weights2"
   ]
  },
  {
   "cell_type": "markdown",
   "metadata": {},
   "source": [
    "#### Задание\n",
    "\n",
    "Реализовать классы нейросетей по аналогии с классом OurNeuralNetwork. Данные нейросети:\n",
    "\n",
    "\t- три входа (x_1,x_2,x_3 );\n",
    "\t- три нейрона в скрытых слоях (h_1,h_2,h_3);\n",
    "\t- выход (o_1).\n",
    "\n",
    "Нейроны имеют идентичные веса и пороги:\n",
    "\n",
    "    - w = [0.5,0.5,0.5]\n",
    "\t- b = 0\n",
    "Данные нейросети:\n",
    "\n",
    "\t- два входа (x_1,x_2);\n",
    "\t- два нейрона в скрытых слоях (h_1,h_2);\n",
    "\t- два выхода (o_1,o_2 ).\n",
    "\n",
    "Нейроны имеют идентичные веса и пороги:\n",
    "\n",
    "    - w = [1,0];\n",
    "    - b = 1.\n"
   ]
  },
  {
   "cell_type": "code",
   "execution_count": null,
   "metadata": {},
   "outputs": [],
   "source": [
    "# Подготовка: создадим класс персептрона и его обучения\n",
    "# Ф-я активации - сигмоида\n",
    "\n",
    "import numpy as np\n",
    "\n",
    "\n",
    "def sigmoid(x):\n",
    "    # ф-я активации: f(x) = 1 / (1 + e^(-x))\n",
    "    return 1 / (1 + np.exp(-x))\n",
    "\n",
    "\n",
    "class Neuron:\n",
    "    def __init__(self, weights, bias):\n",
    "        self.weights = weights\n",
    "        self.bias = bias\n",
    "\n",
    "    def feedforward(self, inputs):\n",
    "        total = np.dot(self.weights, inputs) + self.bias\n",
    "        return sigmoid(total)"
   ]
  },
  {
   "cell_type": "code",
   "execution_count": null,
   "metadata": {},
   "outputs": [
    {
     "name": "stdout",
     "output_type": "stream",
     "text": [
      "0.8175744761936437\n"
     ]
    }
   ],
   "source": [
    "# 1\n",
    "import numpy as np\n",
    "\n",
    "\n",
    "class OurNeuralNetwork1:\n",
    "    '''\n",
    "    Данные нейросети:\n",
    "        - три входа\n",
    "        - три нейрона в скрытых слоях (h1, h2, h3)\n",
    "        - выход (o1)\n",
    "    Нейроны имеют идентичные веса и пороги:\n",
    "        - w = [0.5, 0.5, 0.5]\n",
    "        - b = 0\n",
    "    '''\n",
    "\n",
    "    def __init__(self):\n",
    "        weights = np.array([0.5, 0.5, 0.5])\n",
    "        bias = 0\n",
    "\n",
    "        # Класс Neuron из предыдущего раздела\n",
    "        self.h1 = Neuron(weights, bias)\n",
    "        self.h2 = Neuron(weights, bias)\n",
    "        self.h3 = Neuron(weights, bias)\n",
    "        self.o1 = Neuron(weights, bias)\n",
    "\n",
    "    def feedforward(self, x):\n",
    "        out_h1 = self.h1.feedforward(x)\n",
    "        out_h2 = self.h2.feedforward(x)\n",
    "        out_h3 = self.h3.feedforward(x)\n",
    "\n",
    "        # Входы для o1 - это выходы h1, h2, h3\n",
    "        out_o1 = self.o1.feedforward(np.array([out_h1, out_h2, out_h3]))\n",
    "        return out_o1\n",
    "\n",
    "\n",
    "network = OurNeuralNetwork1()\n",
    "x = np.array([0, 10, 100])\n",
    "print(network.feedforward(x))"
   ]
  },
  {
   "cell_type": "code",
   "execution_count": null,
   "metadata": {},
   "outputs": [
    {
     "name": "stdout",
     "output_type": "stream",
     "text": [
      "(0.8495477739862124, 0.8495477739862124)\n"
     ]
    }
   ],
   "source": [
    "# 2\n",
    "import numpy as np\n",
    "\n",
    "\n",
    "class OurNeuralNetwork2:\n",
    "    '''\n",
    "    Данные нейросети:\n",
    "        - два входа\n",
    "        - два нейрона в скрытых слоях (h1, h2)\n",
    "        - два выхода (o1, o2)\n",
    "    Нейроны имеют идентичные веса и пороги:\n",
    "        - w = [1, 0]\n",
    "        - b = 1\n",
    "    '''\n",
    "\n",
    "    def __init__(self):\n",
    "        weights = np.array([1, 0])\n",
    "        bias = 1\n",
    "\n",
    "        # Класс Neuron из предыдущего раздела\n",
    "        self.h1 = Neuron(weights, bias)\n",
    "        self.h2 = Neuron(weights, bias)\n",
    "\n",
    "        self.o1 = Neuron(weights, bias)\n",
    "        self.o2 = Neuron(weights, bias)\n",
    "\n",
    "    def feedforward(self, x):\n",
    "        out_h1 = self.h1.feedforward(x)\n",
    "        out_h2 = self.h2.feedforward(x)\n",
    "\n",
    "        # Вход для o1 - это выход h1, h2\n",
    "        # Вход для o2 - это выход h1, h2\n",
    "        # o1 = o2\n",
    "\n",
    "        out_o1 = self.o1.feedforward(np.array([out_h1, out_h2]))\n",
    "        out_o2 = self.o2.feedforward(np.array([out_h1, out_h2]))\n",
    "        return out_o1, out_o2\n",
    "\n",
    "\n",
    "network = OurNeuralNetwork2()\n",
    "x = np.array([0, 10])\n",
    "print(network.feedforward(x))"
   ]
  },
  {
   "cell_type": "markdown",
   "metadata": {},
   "source": [
    "### Задание\n",
    "Реализуйте классы нейронных сетей с использованием других функций активации.\n",
    "\n",
    "# КАРТИНКА"
   ]
  },
  {
   "cell_type": "code",
   "execution_count": null,
   "metadata": {},
   "outputs": [],
   "source": [
    "import numpy as np\n",
    "\n",
    "\n",
    "# Ф-ии активаций и их производные\n",
    "\n",
    "def sigmoid(x):\n",
    "    return 1 / (1 + np.exp(-x))\n",
    "\n",
    "\n",
    "def sigmoid_derivative(x):\n",
    "    return sigmoid(x) * (1 - sigmoid(x))\n",
    "\n",
    "\n",
    "def tanh(x):\n",
    "    return np.tanh(x)\n",
    "\n",
    "\n",
    "def tanh_derivative(x):\n",
    "    return 1 - tanh(x) ** 2\n",
    "\n",
    "\n",
    "def ReLU(x):\n",
    "    return max(0, x)\n",
    "\n",
    "\n",
    "def ReLU_derivative(x):\n",
    "    if x > 0:\n",
    "        return 1\n",
    "    if x < 0:\n",
    "        return 0\n",
    "\n",
    "\n",
    "# Классы нейронов для каждой ф-ии\n",
    "class Neuron_sigmoid:\n",
    "    def __init__(self, weights, bias):\n",
    "        self.weights = weights\n",
    "        self.bias = bias\n",
    "\n",
    "    def feedforward(self, inputs):\n",
    "        total = np.dot(self.weights, inputs) + self.bias\n",
    "        return sigmoid(total)\n",
    "\n",
    "\n",
    "class Neuron_tanh:\n",
    "    def __init__(self, weights, bias):\n",
    "        self.weights = weights\n",
    "        self.bias = bias\n",
    "\n",
    "    def feedforward(self, inputs):\n",
    "        total = np.dot(self.weights, inputs) + self.bias\n",
    "        return tanh(total)\n",
    "\n",
    "\n",
    "class Neuron_ReLU:\n",
    "    def __init__(self, weights, bias):\n",
    "        self.weights = weights\n",
    "        self.bias = bias\n",
    "\n",
    "    def feedforward(self, inputs):\n",
    "        total = np.dot(self.weights, inputs) + self.bias\n",
    "        return ReLU(total)"
   ]
  },
  {
   "cell_type": "code",
   "execution_count": null,
   "metadata": {},
   "outputs": [
    {
     "name": "stdout",
     "output_type": "stream",
     "text": [
      "output:\n",
      " [[0.00386513]\n",
      " [0.99750285]\n",
      " [0.00205696]\n",
      " [0.99747581]]\n",
      "last loss:  3.177760100265001e-05\n",
      "min loss:  3.177760100265001e-05\n"
     ]
    },
    {
     "data": {
      "text/plain": [
       "[<matplotlib.lines.Line2D at 0x7ffa248a7a90>]"
      ]
     },
     "execution_count": 10,
     "metadata": {},
     "output_type": "execute_result"
    },
    {
     "data": {
      "image/png": "[encoded data removed]",
      "text/plain": [
       "<Figure size 640x480 with 1 Axes>"
      ]
     },
     "metadata": {},
     "output_type": "display_data"
    }
   ],
   "source": [
    "import matplotlib.pyplot as plt\n",
    "\n",
    "\n",
    "# расчёт потерь\n",
    "def loss_calc(y_hat, y):\n",
    "    return ((y_hat - y) ** 2).sum()\n",
    "\n",
    "\n",
    "loss_values = []\n",
    "\n",
    "\n",
    "class NeuralNetwork_sigmoid:\n",
    "    def __init__(self, x, y):\n",
    "        self.input = x\n",
    "        self.weights1 = np.random.rand(self.input.shape[1], 4)\n",
    "        self.weights2 = np.random.rand(4, 1)\n",
    "        self.y = y\n",
    "        self.output = np.zeros(y.shape)\n",
    "\n",
    "    def feedforward(self):\n",
    "        self.layer1 = sigmoid(np.dot(self.input, self.weights1))\n",
    "        self.output = sigmoid(np.dot(self.layer1, self.weights2))\n",
    "\n",
    "    def backprop(self):\n",
    "        # применение правила цепи для нахождения производной потерь по весу2 и весу1\n",
    "        d_weights2 = np.dot(self.layer1.T, (2 * (self.y - self.output) * sigmoid_derivative(self.output)))\n",
    "        d_weights1 = np.dot(self.input.T, (np.dot(2 * (self.y - self.output) * sigmoid_derivative(self.output),\n",
    "                                                  self.weights2.T) * sigmoid_derivative(self.layer1)))\n",
    "\n",
    "        # обновление веса производной (наклона) ф-ии потерь\n",
    "        self.weights1 += d_weights1\n",
    "        self.weights2 += d_weights2\n",
    "\n",
    "\n",
    "X = np.array([[0, 0],\n",
    "              [0, 1],\n",
    "              [1, 0],\n",
    "              [1, 1]])\n",
    "\n",
    "y = np.array([[0], [1], [0], [1]])\n",
    "\n",
    "net_sigmoid = NeuralNetwork_sigmoid(X, y)\n",
    "for i in range(1000):\n",
    "    net_sigmoid.feedforward()\n",
    "    net_sigmoid.backprop()\n",
    "    loss_values.append(loss_calc(net_sigmoid.output, y))\n",
    "print(\"output:\\n\", net_sigmoid.output)\n",
    "print(\"last loss: \", loss_values[-1])\n",
    "print(\"min loss: \", min(loss_values))\n",
    "plt.plot(loss_values)"
   ]
  },
  {
   "cell_type": "code",
   "execution_count": null,
   "metadata": {},
   "outputs": [
    {
     "name": "stdout",
     "output_type": "stream",
     "text": [
      "output:\n",
      " [[ 0.        ]\n",
      " [ 0.96982025]\n",
      " [-0.23254961]\n",
      " [ 0.96982025]]\n",
      "last loss:  0.05590095466658452\n",
      "min loss:  0.04157564390273274\n"
     ]
    },
    {
     "data": {
      "text/plain": [
       "[<matplotlib.lines.Line2D at 0x7ffa247cc2e0>]"
      ]
     },
     "execution_count": 11,
     "metadata": {},
     "output_type": "execute_result"
    },
    {
     "data": {
      "image/png": "[encoded data removed]",
      "text/plain": [
       "<Figure size 640x480 with 1 Axes>"
      ]
     },
     "metadata": {},
     "output_type": "display_data"
    }
   ],
   "source": [
    "import matplotlib.pyplot as plt\n",
    "\n",
    "\n",
    "# расчёт потерь\n",
    "def loss_calc(y_hat, y):\n",
    "    return ((y_hat - y) ** 2).sum()\n",
    "\n",
    "\n",
    "loss_values = []\n",
    "\n",
    "\n",
    "class NeuralNetwork_tanh:\n",
    "    def __init__(self, x, y):\n",
    "        self.input = x\n",
    "        self.weights1 = np.random.rand(self.input.shape[1], 4)\n",
    "        self.weights2 = np.random.rand(4, 1)\n",
    "        self.y = y\n",
    "        self.output = np.zeros(y.shape)\n",
    "\n",
    "    def feedforward(self):\n",
    "        self.layer1 = tanh(np.dot(self.input, self.weights1))\n",
    "        self.output = tanh(np.dot(self.layer1, self.weights2))\n",
    "\n",
    "    def backprop(self):\n",
    "        # применение правила цепи для нахождения производной потерь по весу2 и весу1\n",
    "        d_weights2 = np.dot(self.layer1.T, (2 * (self.y - self.output) * tanh_derivative(self.output)))\n",
    "        d_weights1 = np.dot(self.input.T, (np.dot(2 * (self.y - self.output) * tanh_derivative(self.output),\n",
    "                                                  self.weights2.T) * tanh_derivative(self.layer1)))\n",
    "\n",
    "        # обновление веса производной (наклона) ф-ии потерь\n",
    "        self.weights1 += d_weights1\n",
    "        self.weights2 += d_weights2\n",
    "\n",
    "\n",
    "X = np.array([[0, 0],\n",
    "              [0, 1],\n",
    "              [1, 0],\n",
    "              [1, 1]])\n",
    "\n",
    "y = np.array([[0], [1], [0], [1]])\n",
    "\n",
    "net_tanh = NeuralNetwork_tanh(X, y)\n",
    "for i in range(1000):\n",
    "    net_tanh.feedforward()\n",
    "    net_tanh.backprop()\n",
    "    loss_values.append(loss_calc(net_tanh.output, y))\n",
    "print(\"output:\\n\", net_tanh.output)\n",
    "print(\"last loss: \", loss_values[-1])\n",
    "print(\"min loss: \", min(loss_values))\n",
    "plt.plot(loss_values)"
   ]
  },
  {
   "cell_type": "code",
   "execution_count": null,
   "metadata": {},
   "outputs": [
    {
     "ename": "ValueError",
     "evalue": "The truth value of an array with more than one element is ambiguous. Use a.any() or a.all()",
     "output_type": "error",
     "traceback": [
      "\u001B[0;31m---------------------------------------------------------------------------\u001B[0m",
      "\u001B[0;31mValueError\u001B[0m                                Traceback (most recent call last)",
      "Cell \u001B[0;32mIn[12], line 44\u001B[0m\n\u001B[1;32m     42\u001B[0m net_ReLU \u001B[38;5;241m=\u001B[39m NeuralNetwork_ReLU(X, y)\n\u001B[1;32m     43\u001B[0m \u001B[38;5;28;01mfor\u001B[39;00m i \u001B[38;5;129;01min\u001B[39;00m \u001B[38;5;28mrange\u001B[39m(\u001B[38;5;241m1000\u001B[39m):\n\u001B[0;32m---> 44\u001B[0m     \u001B[43mnet_ReLU\u001B[49m\u001B[38;5;241;43m.\u001B[39;49m\u001B[43mfeedforward\u001B[49m\u001B[43m(\u001B[49m\u001B[43m)\u001B[49m\n\u001B[1;32m     45\u001B[0m     net_ReLU\u001B[38;5;241m.\u001B[39mbackprop()\n\u001B[1;32m     46\u001B[0m     loss_values\u001B[38;5;241m.\u001B[39mappend(loss_calc(net_ReLU\u001B[38;5;241m.\u001B[39moutput, y))\n",
      "Cell \u001B[0;32mIn[12], line 21\u001B[0m, in \u001B[0;36mNeuralNetwork_ReLU.feedforward\u001B[0;34m(self)\u001B[0m\n\u001B[1;32m     20\u001B[0m \u001B[38;5;28;01mdef\u001B[39;00m \u001B[38;5;21mfeedforward\u001B[39m(\u001B[38;5;28mself\u001B[39m):\n\u001B[0;32m---> 21\u001B[0m     \u001B[38;5;28mself\u001B[39m\u001B[38;5;241m.\u001B[39mlayer1 \u001B[38;5;241m=\u001B[39m \u001B[43mReLU\u001B[49m\u001B[43m(\u001B[49m\u001B[43mnp\u001B[49m\u001B[38;5;241;43m.\u001B[39;49m\u001B[43mdot\u001B[49m\u001B[43m(\u001B[49m\u001B[38;5;28;43mself\u001B[39;49m\u001B[38;5;241;43m.\u001B[39;49m\u001B[43minput\u001B[49m\u001B[43m,\u001B[49m\u001B[43m \u001B[49m\u001B[38;5;28;43mself\u001B[39;49m\u001B[38;5;241;43m.\u001B[39;49m\u001B[43mweights1\u001B[49m\u001B[43m)\u001B[49m\u001B[43m)\u001B[49m\n\u001B[1;32m     22\u001B[0m     \u001B[38;5;28mself\u001B[39m\u001B[38;5;241m.\u001B[39moutput \u001B[38;5;241m=\u001B[39m ReLU(np\u001B[38;5;241m.\u001B[39mdot(\u001B[38;5;28mself\u001B[39m\u001B[38;5;241m.\u001B[39mlayer1, \u001B[38;5;28mself\u001B[39m\u001B[38;5;241m.\u001B[39mweights2))\n",
      "Cell \u001B[0;32mIn[9], line 23\u001B[0m, in \u001B[0;36mReLU\u001B[0;34m(x)\u001B[0m\n\u001B[1;32m     22\u001B[0m \u001B[38;5;28;01mdef\u001B[39;00m \u001B[38;5;21mReLU\u001B[39m(x):\n\u001B[0;32m---> 23\u001B[0m     \u001B[38;5;28;01mreturn\u001B[39;00m \u001B[38;5;28;43mmax\u001B[39;49m\u001B[43m(\u001B[49m\u001B[38;5;241;43m0\u001B[39;49m\u001B[43m,\u001B[49m\u001B[43m \u001B[49m\u001B[43mx\u001B[49m\u001B[43m)\u001B[49m\n",
      "\u001B[0;31mValueError\u001B[0m: The truth value of an array with more than one element is ambiguous. Use a.any() or a.all()"
     ]
    }
   ],
   "source": [
    "import matplotlib.pyplot as plt\n",
    "\n",
    "\n",
    "# расчёт потерь\n",
    "def loss_calc(y_hat, y):\n",
    "    return ((y_hat - y) ** 2).sum()\n",
    "\n",
    "\n",
    "loss_values = []\n",
    "\n",
    "\n",
    "class NeuralNetwork_ReLU:\n",
    "    def __init__(self, x, y):\n",
    "        self.input = x\n",
    "        self.weights1 = np.random.rand(self.input.shape[1], 4)\n",
    "        self.weights2 = np.random.rand(4, 1)\n",
    "        self.y = y\n",
    "        self.output = np.zeros(y.shape)\n",
    "\n",
    "    def feedforward(self):\n",
    "        self.layer1 = ReLU(np.dot(self.input, self.weights1))\n",
    "        self.output = ReLU(np.dot(self.layer1, self.weights2))\n",
    "\n",
    "    def backprop(self):\n",
    "        # применение правила цепи для нахождения производной потерь по весу2 и весу1\n",
    "        d_weights2 = np.dot(self.layer1.T, (2 * (self.y - self.output) * ReLU_derivative(self.output)))\n",
    "        d_weights1 = np.dot(self.input.T, (np.dot(2 * (self.y - self.output) * ReLU_derivative(self.output),\n",
    "                                                  self.weights2.T) * ReLU_derivative(self.layer1)))\n",
    "\n",
    "        # обновление веса производной (наклона) ф-ии потерь\n",
    "        self.weights1 += d_weights1\n",
    "        self.weights2 += d_weights2\n",
    "\n",
    "\n",
    "X = np.array([[0, 0],\n",
    "              [0, 1],\n",
    "              [1, 0],\n",
    "              [1, 1]])\n",
    "\n",
    "y = np.array([[0], [1], [0], [1]])\n",
    "\n",
    "net_ReLU = NeuralNetwork_ReLU(X, y)\n",
    "for i in range(1000):\n",
    "    net_ReLU.feedforward()\n",
    "    net_ReLU.backprop()\n",
    "    loss_values.append(loss_calc(net_ReLU.output, y))\n",
    "print(\"output:\\n\", net_ReLU.output)\n",
    "print(\"last loss: \", loss_values[-1])\n",
    "print(\"min loss: \", min(loss_values))\n",
    "plt.plot(loss_values)"
   ]
  },
  {
   "cell_type": "code",
   "execution_count": null,
   "metadata": {},
   "outputs": [],
   "source": [
    "import numpy as np\n",
    "import pandas as pd\n",
    "import matplotlib.pyplot as plt\n",
    "\n",
    "import sklearn"
   ]
  },
  {
   "cell_type": "markdown",
   "metadata": {},
   "source": [
    "## MLPClassifier\n",
    "Загрузка данных\n",
    "\n",
    "Мы будем загружать два набора данных.\n",
    "\n",
    "Набор данных цифр: мы будем использовать набор данных цифр, который имеет изображения размером 8x8 для цифр 0-9. Ниже мы будем использовать цифровые данные для задач классификации.\n",
    "\n",
    "Набор данных о жилье в Бостоне: мы будем использовать набор данных о жилье в Бостоне, который содержит информацию о различных свойствах дома, таких как среднее количество комнат, уровень преступности на душу населения в городе и т. д. Мы будем использовать его для задач регрессии.\n",
    "\n",
    "Sklearn предоставляет оба этих набора данных. Мы можем загрузить их, вызвав методы load_digits() и load_boston().\n"
   ]
  },
  {
   "cell_type": "code",
   "execution_count": null,
   "metadata": {},
   "outputs": [],
   "source": [
    "from sklearn.datasets import load_digits, load_boston\n",
    "\n",
    "# warnings.warn(msg, category=FutureWarning)\n",
    "\n",
    "digits = load_digits()\n",
    "X_digits, Y_digits = digits.data, digits.target\n",
    "print(\"Dataset Sizes: \", X_digits.shape, Y_digits.shape)\n",
    "boston = load_boston()\n",
    "X_boston, Y_boston = boston.data, boston.target\n",
    "print(\"Dataset Sizes: \", X_boston.shape, Y_boston.shape)\n"
   ]
  },
  {
   "cell_type": "markdown",
   "metadata": {},
   "source": [
    "Классификация\n",
    "\n",
    "MLPClassifier — это класс, доступный как часть модуля neuro_network sklearn для выполнения задач классификации с использованием многослойного персептрона.\n",
    "Как обычно разделим набор данных на две части:\n",
    "\n",
    "\tданные обучения, которые будут использоваться для модели обучения;\n",
    "\tтестовые данные, по которым будет проверяться точность обученной модели.\n",
    "\n",
    "Функция train_test_split модуля model_selection sklearn поможет нам разделить данные на два набора: 80% для обучения и 20% для тестирования. Мы также используем seed(random_state=123) с train_test_split, чтобы мы всегда получали одно и то же разделение и могли сравнивать и воспроизволить результаты в будущем.\n"
   ]
  },
  {
   "cell_type": "code",
   "execution_count": null,
   "metadata": {},
   "outputs": [],
   "source": [
    "from sklearn.model_selection import train_test_split\n",
    "\n",
    "X_train, X_test, Y_train, Y_test = train_test_split(X_digits, Y_digits, train_size=0.8,\n",
    "                                                    test_size=0.2, stratify=Y_digits, random_state=123)\n",
    "print(\"Train/Test Sizes:  \", X_train.shape, X_test.shape, Y_train.shape, Y_test.shape)"
   ]
  },
  {
   "cell_type": "markdown",
   "metadata": {},
   "source": [
    "Для начала натренируем модель MLPClassifier с параметрами по умолчанию для тренировочных данных."
   ]
  },
  {
   "cell_type": "code",
   "execution_count": null,
   "metadata": {},
   "outputs": [],
   "source": [
    "from sklearn.neural_network import MLPClassifier\n",
    "\n",
    "mlp_classifier = MLPClassifier(random_state=123)\n",
    "mlp_classifier.fit(X_train, Y_train)"
   ]
  },
  {
   "cell_type": "code",
   "execution_count": null,
   "metadata": {},
   "outputs": [],
   "source": [
    "Y_preds = mlp_classifier.predict(X_test)\n",
    "\n",
    "print(Y_preds[:15])\n",
    "print(Y_test[:15])\n",
    "\n",
    "# Метод Score для оценки точности моделей классификации\n",
    "print(\"Test Accuracy: %.3f\" % mlp_classifier.score(X_test, Y_test))\n",
    "print(\"Training Accuracy: %.3f\" % mlp_classifier.score(X_train, Y_train))"
   ]
  },
  {
   "cell_type": "markdown",
   "metadata": {},
   "source": [
    "Cоздадим метод plot_confusion_matrix(), который принимает исходные и предсказанные метки данных по модели. Затем он строит матрицу путаницы, используя matplotlib."
   ]
  },
  {
   "cell_type": "code",
   "execution_count": null,
   "metadata": {},
   "outputs": [],
   "source": [
    "from sklearn.metrics import confusion_matrix\n",
    "\n",
    "\n",
    "def plot_confusion_matrix(Y_test, Y_preds):\n",
    "    conf_mat = confusion_matrix(Y_test, Y_preds)\n",
    "\n",
    "    fig = plt.figure(figsize=(6, 6))\n",
    "    plt.matshow(conf_mat, cmap=plt.cm.Blues, fignum=1)\n",
    "    plt.yticks = (range(10), range(10))\n",
    "    plt.xticks = (range(10), range(10))\n",
    "    plt.colorbar();\n",
    "    for i in range(10):\n",
    "        for j in range(10):\n",
    "            plt.text(i - 0.2, j + 0.1, str(conf_mat[j, i]), color=\"tab:red\")\n",
    "\n",
    "\n",
    "plot_confusion_matrix(Y_test, mlp_classifier.predict(X_test))"
   ]
  },
  {
   "cell_type": "markdown",
   "metadata": {},
   "source": [
    "Ниже приведен список важных атрибутов, доступных с MLPClassifier, которые могут предоставить значимую информацию после обучения модели.\n",
    "\n",
    "-\tloss_ — возвращает убыток после завершения процесса обучения.\n",
    "-\tcoefs_ — возвращает массив длины n_layers-1, где каждый элемент представляет веса, связанные с уровнем i.\n",
    "-\tintercepts_ — возвращает массив длины n_layers-1, где каждый элемент представляет собой перехват, связанный с персептронами слоя i.\n",
    "-\tn_iter_ — количество итераций, для которых выполнялась оценка.\n",
    "-\tout_activation_ — возвращает имя функции активации выходного слоя.\n",
    "-\tout_activation_ — возвращает имя функции активации выходного слоя.\n"
   ]
  },
  {
   "cell_type": "code",
   "execution_count": null,
   "metadata": {},
   "outputs": [],
   "source": [
    "print(\"Loss: \", mlp_classifier.loss_)\n",
    "print(\"Number of Coefs: \", len(mlp_classifier.coefs_))\n",
    "print(\"Number of Intercepts: \", len(mlp_classifier.intercepts_))\n",
    "print(\"Number of Iterations for Which Estimator Ran: \", mlp_classifier.n_iter_)\n",
    "print(\"Name of Output Layer Activation Function: \", mlp_classifier.out_activation_)"
   ]
  },
  {
   "cell_type": "markdown",
   "metadata": {},
   "source": [
    "### MLPRegressor\n",
    "\n",
    "MLPRegressor — это класс, доступный как часть библиотеки neuro_network sklearn для выполнения задач регрессии с использованием многослойного персептрона. Также разделим набор данных на две части:\n",
    "\n",
    "-\tданные обучения (80%), которые будут использоваться для модели обучения;\n",
    "-\tтестовые данные (20%), по которым будет проверяться точность обученной модели.\n"
   ]
  },
  {
   "cell_type": "code",
   "execution_count": null,
   "metadata": {},
   "outputs": [],
   "source": [
    "X_train, X_test, Y_train, Y_test = train_test_split(X_boston, Y_boston, train_size=0.8,\n",
    "                                                    test_size=0.2, random_state=123)\n",
    "print(\"Train/Test Sizes:  \", X_train.shape, X_test.shape, Y_train.shape, Y_test.shape)"
   ]
  },
  {
   "cell_type": "code",
   "execution_count": null,
   "metadata": {},
   "outputs": [],
   "source": [
    "from sklearn.neural_network import MLPRegressor\n",
    "\n",
    "mlp_regressor = MLPRegressor(random_state=123)\n",
    "mlp_regressor.fit(X_train, Y_train)"
   ]
  },
  {
   "cell_type": "code",
   "execution_count": null,
   "metadata": {},
   "outputs": [],
   "source": [
    "Y_preds = mlp_regressor.predict(X_test)\n",
    "\n",
    "print(Y_preds[:10])\n",
    "print(Y_test[:10])\n",
    "# Метод Score оценивает точность моделей классификации\n",
    "print(\"Test R^2 Score: %.3f\" % mlp_regressor.score(X_test, Y_test))\n",
    "print(\"Training R^2 Score: %.3f\" % mlp_regressor.score(X_train, Y_train))"
   ]
  },
  {
   "cell_type": "code",
   "execution_count": null,
   "metadata": {},
   "outputs": [],
   "source": [
    "print(\"Loss: \", mlp_regressor.loss_)\n",
    "print(\"Number of Coefs: \", len(mlp_regressor.coefs_))\n",
    "[weights.shape for weights in mlp_regressor.coefs_]"
   ]
  },
  {
   "cell_type": "code",
   "execution_count": null,
   "metadata": {},
   "outputs": [],
   "source": [
    "print(\"Number of Iterations for Which Estimator Ran:\", mlp_regressor.n_iter_)\n",
    "print(\"Name of Output Layer Activation Fuction:\", mlp_regressor.out_activation_)"
   ]
  },
  {
   "cell_type": "markdown",
   "metadata": {},
   "source": [
    "### Задание\n",
    "Используйте классы MLPClassified и MLPRegressor для классификации и регрессии произвольных данных из интернета. Проведите анализ атрибуты, полученных моделей.\n",
    "\n",
    "Для классификации можете взять набор данных Ирисов:\n",
    "https://gist.githubusercontent.com/netj/8836201/raw/6f9306ad21398ea43cba4f7d537619d0e07d5ae3/iris.csv\n",
    "а для регрессии датасет зависимости заработной платы от опыта работы:\n",
    "https://raw.githubusercontent.com/AnnaShestova/salary-years-simple-linear-regression/master/Salary_Data.csv\n"
   ]
  },
  {
   "cell_type": "code",
   "execution_count": null,
   "metadata": {},
   "outputs": [],
   "source": [
    "# Classification\n",
    "import pandas as pd\n",
    "\n",
    "data = pd.read_csv(\n",
    "    'https://gist.githubusercontent.com/netj/8836201/raw/6f9306ad21398ea43cba4f7d537619d0e07d5ae3/iris.csv')\n",
    "data.head()"
   ]
  },
  {
   "cell_type": "code",
   "execution_count": null,
   "metadata": {},
   "outputs": [],
   "source": [
    "X = data.iloc[:, 0:4]\n",
    "y = data.iloc[:, 4]\n",
    "from sklearn.model_selection import train_test_split\n",
    "\n",
    "X_train, X_test, Y_train, Y_test = train_test_split(X, y, train_size=0.8,\n",
    "                                                    test_size=0.2, random_state=123)\n"
   ]
  },
  {
   "cell_type": "code",
   "execution_count": null,
   "metadata": {},
   "outputs": [],
   "source": [
    "from sklearn.neural_network import MLPClassifier\n",
    "\n",
    "mlp_classifier = MLPClassifier(random_state=123, max_iter=15000)  # без параметра max_iter - ConvergenceWarning\n",
    "mlp_classifier.fit(X_train, Y_train)\n",
    "Y_preds = mlp_classifier.predict(X_test)\n",
    "\n",
    "print(Y_preds[:15])\n",
    "print(Y_test[:15].values)\n",
    "\n",
    "# Метод Score для оценки точности моделей классификации\n",
    "print(\"Test Accuracy: %.3f\" % mlp_classifier.score(X_test, Y_test))\n",
    "print(\"Training Accuracy: %.3f\" % mlp_classifier.score(X_train, Y_train))"
   ]
  },
  {
   "cell_type": "code",
   "execution_count": null,
   "metadata": {},
   "outputs": [],
   "source": [
    "# Regression\n",
    "import pandas as pd\n",
    "\n",
    "data = pd.read_csv(\n",
    "    'https://raw.githubusercontent.com/AnnaShestova/salary-years-simple-linear-regression/master/Salary_Data.csv')\n",
    "data.head()"
   ]
  },
  {
   "cell_type": "code",
   "execution_count": null,
   "metadata": {},
   "outputs": [],
   "source": [
    "X = data[\"YearsExperience\"].values.reshape(-1, 1)\n",
    "y = data['Salary'].values\n",
    "y"
   ]
  },
  {
   "cell_type": "code",
   "execution_count": null,
   "metadata": {},
   "outputs": [],
   "source": [
    "from sklearn.model_selection import train_test_split\n",
    "\n",
    "X_train, X_test, Y_train, Y_test = train_test_split(X, y, train_size=0.8,\n",
    "                                                    test_size=0.2, random_state=123)\n",
    "from sklearn.neural_network import MLPRegressor\n",
    "\n",
    "mlp_regressor = MLPRegressor(random_state=123, max_iter=100000)  # без параметра max_iter - ConvergenceWarning\n",
    "mlp_regressor.fit(X_train, Y_train)\n",
    "\n",
    "Y_preds = mlp_regressor.predict(X_test)\n",
    "\n",
    "print(Y_preds[:10])\n",
    "print(Y_test[:10])\n",
    "# Метод Score оценивает точность моделей классификации\n",
    "print(\"Test R^2 Score: %.3f\" % mlp_regressor.score(X_test, Y_test))\n",
    "print(\"Training R^2 Score: %.3f\" % mlp_regressor.score(X_train, Y_train))\n",
    "\n",
    "# С модифицированным параметром max_iter метрика R^2 стала положительной\n",
    "# По полученным значениям с при дефолтном max_iter=200 видно, что\n",
    "# модель даёт неадекватные ответы\n",
    "\n",
    "# Было до изменения max_iter:\n",
    "\n",
    "# [20.26234628 55.2781752  18.82135812 50.48274487 20.26234628 50.9622879 ]\n",
    "# [ 54445. 121872.  56642. 116969.  64445. 112635.]\n",
    "# Test R^2 Score: -8.796\n",
    "# Training R^2 Score: -8.261\n",
    "\n",
    "# Если R2 < 0 - разработанная модель даёт прогноз даже хуже, чем простое усреднение"
   ]
  },
  {
   "cell_type": "code",
   "execution_count": null,
   "metadata": {},
   "outputs": [],
   "source": [
    "print(\"Loss: \", mlp_regressor.loss_)\n",
    "print(\"Number of Coefs: \", len(mlp_regressor.coefs_))\n",
    "print(\"Number of Intercepts: \", len(mlp_regressor.intercepts_))\n",
    "print(\"Number of Iterations for Which Estimator Ran: \", mlp_regressor.n_iter_)\n",
    "print(\"Name of Output Layer Activation Function: \", mlp_regressor.out_activation_)"
   ]
  },
  {
   "cell_type": "code",
   "execution_count": null,
   "metadata": {},
   "outputs": [],
   "source": [
    "data"
   ]
  },
  {
   "cell_type": "code",
   "execution_count": null,
   "metadata": {},
   "outputs": [],
   "source": []
  }
 ],
 "metadata": {
  "kernelspec": {
   "display_name": "Python 3 (ipykernel)",
   "language": "python",
   "name": "python3"
  },
  "language_info": {
   "codemirror_mode": {
    "name": "ipython",
    "version": 3
   },
   "file_extension": ".py",
   "mimetype": "text/x-python",
   "name": "python",
   "nbconvert_exporter": "python",
   "pygments_lexer": "ipython3",
   "version": "3.10.9"
  }
 },
 "nbformat": 4,
 "nbformat_minor": 1
}
