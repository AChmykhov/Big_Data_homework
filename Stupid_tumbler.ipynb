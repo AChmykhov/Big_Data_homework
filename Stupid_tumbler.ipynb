{
 "cells": [
  {
   "cell_type": "code",
   "execution_count": 42,
   "metadata": {
    "collapsed": true
   },
   "outputs": [],
   "source": [
    "import numpy as np\n",
    "import pandas as pd\n",
    "from sklearn.preprocessing import MinMaxScaler, StandardScaler\n",
    "import matplotlib.pyplot as plt\n"
   ]
  },
  {
   "cell_type": "code",
   "execution_count": 43,
   "outputs": [
    {
     "data": {
      "text/plain": "        type  dps  flex  healer  tank\n0     bottom   20    22     110    22\n1        top    9     3      23    16\n2  versatile   37    45      65    61",
      "text/html": "<div>\n<style scoped>\n    .dataframe tbody tr th:only-of-type {\n        vertical-align: middle;\n    }\n\n    .dataframe tbody tr th {\n        vertical-align: top;\n    }\n\n    .dataframe thead th {\n        text-align: right;\n    }\n</style>\n<table border=\"1\" class=\"dataframe\">\n  <thead>\n    <tr style=\"text-align: right;\">\n      <th></th>\n      <th>type</th>\n      <th>dps</th>\n      <th>flex</th>\n      <th>healer</th>\n      <th>tank</th>\n    </tr>\n  </thead>\n  <tbody>\n    <tr>\n      <th>0</th>\n      <td>bottom</td>\n      <td>20</td>\n      <td>22</td>\n      <td>110</td>\n      <td>22</td>\n    </tr>\n    <tr>\n      <th>1</th>\n      <td>top</td>\n      <td>9</td>\n      <td>3</td>\n      <td>23</td>\n      <td>16</td>\n    </tr>\n    <tr>\n      <th>2</th>\n      <td>versatile</td>\n      <td>37</td>\n      <td>45</td>\n      <td>65</td>\n      <td>61</td>\n    </tr>\n  </tbody>\n</table>\n</div>"
     },
     "execution_count": 43,
     "metadata": {},
     "output_type": "execute_result"
    }
   ],
   "source": [
    "data =[[\"bottom\", 20, 22, 110, 22], [\"top\", 9, 3, 23, 16], [\"versatile\", 37, 45, 65, 61]]\n",
    "df = pd.DataFrame(data=data, columns=[\"type\", \"dps\", \"flex\", \"healer\", \"tank\"])\n",
    "df.head(3)"
   ],
   "metadata": {
    "collapsed": false
   }
  },
  {
   "cell_type": "code",
   "execution_count": 44,
   "outputs": [
    {
     "data": {
      "text/plain": "type    bottom  top  versatile\ndps         20    9         37\nflex        22    3         45\nhealer     110   23         65\ntank        22   16         61",
      "text/html": "<div>\n<style scoped>\n    .dataframe tbody tr th:only-of-type {\n        vertical-align: middle;\n    }\n\n    .dataframe tbody tr th {\n        vertical-align: top;\n    }\n\n    .dataframe thead th {\n        text-align: right;\n    }\n</style>\n<table border=\"1\" class=\"dataframe\">\n  <thead>\n    <tr style=\"text-align: right;\">\n      <th>type</th>\n      <th>bottom</th>\n      <th>top</th>\n      <th>versatile</th>\n    </tr>\n  </thead>\n  <tbody>\n    <tr>\n      <th>dps</th>\n      <td>20</td>\n      <td>9</td>\n      <td>37</td>\n    </tr>\n    <tr>\n      <th>flex</th>\n      <td>22</td>\n      <td>3</td>\n      <td>45</td>\n    </tr>\n    <tr>\n      <th>healer</th>\n      <td>110</td>\n      <td>23</td>\n      <td>65</td>\n    </tr>\n    <tr>\n      <th>tank</th>\n      <td>22</td>\n      <td>16</td>\n      <td>61</td>\n    </tr>\n  </tbody>\n</table>\n</div>"
     },
     "execution_count": 44,
     "metadata": {},
     "output_type": "execute_result"
    }
   ],
   "source": [
    "dfs = df.set_index(\"type\").transpose()\n",
    "dfm = df.set_index(\"type\").transpose()\n",
    "dfs.head(4)"
   ],
   "metadata": {
    "collapsed": false
   }
  },
  {
   "cell_type": "code",
   "execution_count": 48,
   "outputs": [
    {
     "data": {
      "text/plain": "type      bottom       top  versatile\ndps    -0.611940 -0.500278  -1.310556\nflex   -0.559860 -1.300723  -0.611593\nhealer  1.731659  1.367427   1.135815\ntank   -0.559860  0.433574   0.786334",
      "text/html": "<div>\n<style scoped>\n    .dataframe tbody tr th:only-of-type {\n        vertical-align: middle;\n    }\n\n    .dataframe tbody tr th {\n        vertical-align: top;\n    }\n\n    .dataframe thead th {\n        text-align: right;\n    }\n</style>\n<table border=\"1\" class=\"dataframe\">\n  <thead>\n    <tr style=\"text-align: right;\">\n      <th>type</th>\n      <th>bottom</th>\n      <th>top</th>\n      <th>versatile</th>\n    </tr>\n  </thead>\n  <tbody>\n    <tr>\n      <th>dps</th>\n      <td>-0.611940</td>\n      <td>-0.500278</td>\n      <td>-1.310556</td>\n    </tr>\n    <tr>\n      <th>flex</th>\n      <td>-0.559860</td>\n      <td>-1.300723</td>\n      <td>-0.611593</td>\n    </tr>\n    <tr>\n      <th>healer</th>\n      <td>1.731659</td>\n      <td>1.367427</td>\n      <td>1.135815</td>\n    </tr>\n    <tr>\n      <th>tank</th>\n      <td>-0.559860</td>\n      <td>0.433574</td>\n      <td>0.786334</td>\n    </tr>\n  </tbody>\n</table>\n</div>"
     },
     "metadata": {},
     "output_type": "display_data"
    },
    {
     "data": {
      "text/plain": "type      bottom  top  versatile\ndps     1.000000  2.2   1.000000\nflex    1.088889  1.0   2.142857\nhealer  5.000000  5.0   5.000000\ntank    1.088889  3.6   4.428571",
      "text/html": "<div>\n<style scoped>\n    .dataframe tbody tr th:only-of-type {\n        vertical-align: middle;\n    }\n\n    .dataframe tbody tr th {\n        vertical-align: top;\n    }\n\n    .dataframe thead th {\n        text-align: right;\n    }\n</style>\n<table border=\"1\" class=\"dataframe\">\n  <thead>\n    <tr style=\"text-align: right;\">\n      <th>type</th>\n      <th>bottom</th>\n      <th>top</th>\n      <th>versatile</th>\n    </tr>\n  </thead>\n  <tbody>\n    <tr>\n      <th>dps</th>\n      <td>1.000000</td>\n      <td>2.2</td>\n      <td>1.000000</td>\n    </tr>\n    <tr>\n      <th>flex</th>\n      <td>1.088889</td>\n      <td>1.0</td>\n      <td>2.142857</td>\n    </tr>\n    <tr>\n      <th>healer</th>\n      <td>5.000000</td>\n      <td>5.0</td>\n      <td>5.000000</td>\n    </tr>\n    <tr>\n      <th>tank</th>\n      <td>1.088889</td>\n      <td>3.6</td>\n      <td>4.428571</td>\n    </tr>\n  </tbody>\n</table>\n</div>"
     },
     "metadata": {},
     "output_type": "display_data"
    }
   ],
   "source": [
    "dfm[['bottom', 'top', 'versatile']] = MinMaxScaler(feature_range=(1, 5)).fit_transform(dfm[['bottom', 'top', 'versatile']])\n",
    "dfs[['bottom', 'top', 'versatile']] = StandardScaler().fit_transform(dfs[['bottom', 'top', 'versatile']])\n",
    "display(dfs.head(4))\n",
    "display(dfm.head(4))"
   ],
   "metadata": {
    "collapsed": false
   }
  },
  {
   "cell_type": "code",
   "execution_count": 46,
   "outputs": [
    {
     "data": {
      "text/plain": "<Figure size 640x480 with 2 Axes>",
      "image/png": "[encoded data removed]"
     },
     "metadata": {},
     "output_type": "display_data"
    }
   ],
   "source": [
    "ax = plt.subplot(1, 2, 1)\n",
    "ax = dfs.plot(kind=\"barh\", ax = ax)\n",
    "ax.xaxis.grid(True)\n",
    "plt.title(\"Standard deviation\")\n",
    "\n",
    "ax = plt.subplot(1, 2, 2)\n",
    "ax = dfm.plot(kind=\"barh\", ax = ax)\n",
    "ax.xaxis.grid(True)\n",
    "plt.title(\"MinMax scale\")\n",
    "\n",
    "plt.show()"
   ],
   "metadata": {
    "collapsed": false
   }
  },
  {
   "cell_type": "code",
   "execution_count": 46,
   "outputs": [],
   "source": [],
   "metadata": {
    "collapsed": false
   }
  }
 ],
 "metadata": {
  "kernelspec": {
   "display_name": "Python 3",
   "language": "python",
   "name": "python3"
  },
  "language_info": {
   "codemirror_mode": {
    "name": "ipython",
    "version": 2
   },
   "file_extension": ".py",
   "mimetype": "text/x-python",
   "name": "python",
   "nbconvert_exporter": "python",
   "pygments_lexer": "ipython2",
   "version": "2.7.6"
  }
 },
 "nbformat": 4,
 "nbformat_minor": 0
}
